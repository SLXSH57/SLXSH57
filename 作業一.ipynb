{
 "cells": [
  {
   "cell_type": "code",
   "execution_count": 9,
   "id": "42da92fb-5ad2-4a97-a77e-91bc37501c77",
   "metadata": {},
   "outputs": [
    {
     "name": "stdout",
     "output_type": "stream",
     "text": [
      "{'GALNERYUS,', \"GUNS N' ROSES\", nan, 'MOTLEY CRUE', 'BON JOVI', 'RATT', 'QUEEN', 'LINP BIZKIT'}\n",
      "{'FLESH JUCIER', 'MEGADEATH', 'BON JOVI', 'X JAPAN', 'RATT', 'ATTACK ATTACK', 'BRING ME THE HORIZON', 'NEMOPHILA', 'GALNERYUS,', \"GUNS N' ROSES\", nan, 'MOTLEY CRUE', 'I PREVAIL', 'SLIPKNOT', 'QUEEN', 'LINP BIZKIT'}\n",
      "{nan, 'GALNERYUS,', \"GUNS N' ROSES\"}\n",
      "{'MOTLEY CRUE', 'BON JOVI', 'RATT', 'QUEEN', 'LINP BIZKIT'}\n"
     ]
    }
   ],
   "source": [
    "import pandas as pd\n",
    "\n",
    "# 讀取CSV檔案\n",
    "file_path = \"C:\\\\Users\\\\User\\\\Downloads\\\\bands.csv\"\n",
    "df = pd.read_csv(file_path)\n",
    "\n",
    "# 創建兩個集合\n",
    "rock_set = set(df[' Rock'])\n",
    "heavy_metal = set(df['Heavy Metal'])\n",
    "\n",
    "# 印出Rock音樂風格的Set資料型顧\n",
    "print(rock_set)\n",
    "\n",
    "# 聯集\n",
    "union_set = rock_set.union(heavy_metal)\n",
    "\n",
    "print (union_set)\n",
    "# 交集\n",
    "intersection_set = rock_set. intersection (heavy_metal)\n",
    "print (intersection_set)\n",
    "# 差集\n",
    "difference_set = rock_set.difference(heavy_metal)\n",
    "print(difference_set)"
   ]
  },
  {
   "cell_type": "code",
   "execution_count": null,
   "id": "6f07ce25-5c1f-4f07-8353-87141f86d3dc",
   "metadata": {},
   "outputs": [],
   "source": []
  },
  {
   "cell_type": "code",
   "execution_count": null,
   "id": "300e5229-b9c3-4a07-ae76-1f15f2ea6087",
   "metadata": {},
   "outputs": [],
   "source": []
  }
 ],
 "metadata": {
  "kernelspec": {
   "display_name": "Python 3 (ipykernel)",
   "language": "python",
   "name": "python3"
  },
  "language_info": {
   "codemirror_mode": {
    "name": "ipython",
    "version": 3
   },
   "file_extension": ".py",
   "mimetype": "text/x-python",
   "name": "python",
   "nbconvert_exporter": "python",
   "pygments_lexer": "ipython3",
   "version": "3.11.5"
  }
 },
 "nbformat": 4,
 "nbformat_minor": 5
}
