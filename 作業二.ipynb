{
  "nbformat": 4,
  "nbformat_minor": 0,
  "metadata": {
    "colab": {
      "provenance": []
    },
    "kernelspec": {
      "name": "python3",
      "display_name": "Python 3"
    },
    "language_info": {
      "name": "python"
    }
  },
  "cells": [
    {
      "cell_type": "code",
      "execution_count": 4,
      "metadata": {
        "colab": {
          "base_uri": "https://localhost:8080/"
        },
        "id": "dWSuxViEis38",
        "outputId": "b08267d3-73ad-48c5-a3ba-6b0f120d60e1"
      },
      "outputs": [
        {
          "output_type": "stream",
          "name": "stdout",
          "text": [
            "美國樂團： ['Guns N Roses', 'Motleu Crue', 'Bon Jovi', 'Van Halen', 'Megadeath', 'Polyphia', 'Slipknot', 'I Prevail', 'Attack Attack', 'Metallica']\n",
            "專輯數量超過10張的樂團： ['Queen', 'AC/DC', 'Bon Jovi', 'Van Halen', 'Megadeath']\n",
            "少於5人的樂團： ['Queen', 'Van Halen', 'Megadeath', 'Polyphia', 'Metallica']\n"
          ]
        }
      ],
      "source": [
        "import json\n",
        "band_albums = {\n",
        "    \"Guns N Roses\": 6,\n",
        "    \"Queen\": 15,\n",
        "    \"Motleu Crue\": 9,\n",
        "    \"AC/DC\": 19,\n",
        "    \"Bon Jovi\": 14,\n",
        "    \"Van Halen\": 12,\n",
        "    \"Megadeath\": 15,\n",
        "    \"Flesh Juicer\": 6,\n",
        "    \"Nemophila\": 3,\n",
        "    \"Galneryus\": 10,\n",
        "    \"X JAPAN\": 8,\n",
        "    \"ZARD\": 8,\n",
        "    \"Polyphia\": 5,\n",
        "    \"Slipknot\": 6,\n",
        "    \"I Prevail\": 2,\n",
        "    \"Attack Attack\": 3,\n",
        "    \"Bring Me The Horizon\": 7,\n",
        "    \"Metallica\": 10\n",
        "}\n",
        "band_region = {\n",
        "    \"Guns N Roses\": [\"America\"],\n",
        "    \"Queen\": [\"United Kingdom\"],\n",
        "    \"Motleu Crue\": [\"America\"],\n",
        "    \"AC/DC\": [\"Australia\"],\n",
        "    \"Bon Jovi\": [\"America\"],\n",
        "    \"Van Halen\": [\"America\"],\n",
        "    \"Megadeath\": [\"America\"],\n",
        "    \"Flesh Juicer\": [\"Taiwan\"],\n",
        "    \"Nemophila\": [\"Japan\"],\n",
        "    \"Galneryus\": [\"Japan\"],\n",
        "    \"X JAPAN\": [\"Japan\"],\n",
        "    \"ZARD\": [\"Japan\"],\n",
        "    \"Polyphia\": [\"America\"],\n",
        "    \"Slipknot\": [\"America\"],\n",
        "    \"I Prevail\": [\"America\"],\n",
        "    \"Attack Attack\": [\"America\"],\n",
        "    \"Bring Me The Horizon\": [\"United Kingdom\"],\n",
        "    \"Metallica\": [\"America\"],\n",
        "}\n",
        "band_people = {\n",
        "    \"Guns N Roses\": [\"5\"],\n",
        "    \"Queen\": [\"4\"],\n",
        "    \"Motleu Crue\": [\"5\"],\n",
        "    \"AC/DC\": [\"5\"],\n",
        "    \"Bon Jovi\": [\"5\"],\n",
        "    \"Van Halen\": [\"4\"],\n",
        "    \"Megadeath\": [\"4\"],\n",
        "    \"Flesh Juicer\": [\"5\"],\n",
        "    \"Nemophila\": [\"5\"],\n",
        "    \"Galneryus\": [\"5\"],\n",
        "    \"X JAPAN\": [\"5\"],\n",
        "    \"ZARD\": [\"5\"],\n",
        "    \"Polyphia\": [\"4\"],\n",
        "    \"Slipknot\": [\"9\"],\n",
        "    \"I Prevail\": [\"6\"],\n",
        "    \"Attack Attack\": [\"5\"],\n",
        "    \"Bring Me The Horizon\": [\"5\"],\n",
        "    \"Metallica\": [\"4\"],\n",
        "}\n",
        "bands = {}\n",
        "for band in band_albums:\n",
        "    bands[band] = {\n",
        "        \"albums\": band_albums[band],\n",
        "        \"region\": band_region[band],\n",
        "        \"people\": band_people[band]\n",
        "    }\n",
        "json_data = json.dumps(bands, indent=4, ensure_ascii=False)\n",
        "with open(\"bands.json\", \"r\", encoding=\"utf-8\") as json_file:\n",
        "    bands_data = json.load(json_file)\n",
        "\n",
        "# 問题一：來自美國的樂團有哪些?\n",
        "us_bands = [band for band, info in bands_data.items() if \"America\" in info[\"region\"]]\n",
        "print(\"美國樂團：\", us_bands)\n",
        "\n",
        "# 問题二：專輯數量超過10張的樂團有哪些?\n",
        "albums_gt_10 = [band for band, info in bands_data.items() if info[\"albums\"] > 10]\n",
        "print(\"專輯數量超過10張的樂團：\", albums_gt_10)\n",
        "\n",
        "# 問题三：少於5人的樂團有哪些?\n",
        "members_lt_5 = [band for band, info in bands_data.items() if int(info[\"people\"][0]) < 5]\n",
        "print(\"少於5人的樂團：\", members_lt_5)"
      ]
    }
  ]
}