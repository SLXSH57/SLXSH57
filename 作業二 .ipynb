import json
band_albums = {
    "Guns N Roses": 6,
    "Queen": 15,
    "Motleu Crue": 9,
    "AC/DC": 19,
    "Bon Jovi": 14,
    "Van Halen": 12,
    "Megadeath": 15,
    "Flesh Juicer": 6,
    "Nemophila": 3,
    "Galneryus": 10,
    "X JAPAN": 8,
    "ZARD": 8,
    "Polyphia": 5,
    "Slipknot": 6,
    "I Prevail": 2,
    "Attack Attack": 3,
    "Bring Me The Horizon": 7,
    "Metallica": 10
}
band_region = {
    "Guns N Roses": ["America"],
    "Queen": ["United Kingdom"],
    "Motleu Crue": ["America"],
    "AC/DC": ["Australia"],
    "Bon Jovi": ["America"],
    "Van Halen": ["America"],
    "Megadeath": ["America"],
    "Flesh Juicer": ["Taiwan"],
    "Nemophila": ["Japan"],
    "Galneryus": ["Japan"],
    "X JAPAN": ["Japan"],
    "ZARD": ["Japan"],
    "Polyphia": ["America"],
    "Slipknot": ["America"],
    "I Prevail": ["America"],
    "Attack Attack": ["America"],
    "Bring Me The Horizon": ["United Kingdom"],
    "Metallica": ["America"],
}
band_people = {
    "Guns N Roses": ["5"],
    "Queen": ["4"],
    "Motleu Crue": ["5"],
    "AC/DC": ["5"],
    "Bon Jovi": ["5"],
    "Van Halen": ["4"],
    "Megadeath": ["4"],
    "Flesh Juicer": ["5"],
    "Nemophila": ["5"],
    "Galneryus": ["5"],
    "X JAPAN": ["5"],
    "ZARD": ["5"],
    "Polyphia": ["4"],
    "Slipknot": ["9"],
    "I Prevail": ["6"],
    "Attack Attack": ["5"],
    "Bring Me The Horizon": ["5"],
    "Metallica": ["4"],
}
bands = {}
for band in band_albums:
    bands[band] = {
        "albums": band_albums[band],
        "region": band_region[band],
        "people": band_people[band]
    }
json_data = json.dumps(bands, indent=4, ensure_ascii=False)
with open("bands.json", "r", encoding="utf-8") as json_file:
    bands_data = json.load(json_file)

# 問题一：來自美國的樂團有哪些?
us_bands = [band for band, info in bands_data.items() if "America" in info["region"]]
print("美國樂團：", us_bands)

# 問题二：專輯數量超過10張的樂團有哪些?
albums_gt_10 = [band for band, info in bands_data.items() if info["albums"] > 10]
print("專輯數量超過10張的樂團：", albums_gt_10)

# 問题三：少於5人的樂團有哪些?
members_lt_5 = [band for band, info in bands_data.items() if int(info["people"][0]) < 5]
print("少於5人的樂團：", members_lt_5)
